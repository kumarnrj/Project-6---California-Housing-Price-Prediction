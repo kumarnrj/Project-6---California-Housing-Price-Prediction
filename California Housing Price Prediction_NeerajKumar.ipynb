{
 "cells": [
  {
   "cell_type": "code",
   "execution_count": 2,
   "metadata": {},
   "outputs": [],
   "source": [
    "#importing the library\n",
    "import numpy as np\n",
    "import matplotlib.pyplot as plt\n",
    "import pandas as pd"
   ]
  },
  {
   "cell_type": "code",
   "execution_count": 3,
   "metadata": {},
   "outputs": [],
   "source": [
    "#importing the dataset using pandas\n",
    "dataset = pd.read_csv('housing.csv')"
   ]
  },
  {
   "cell_type": "code",
   "execution_count": 4,
   "metadata": {},
   "outputs": [],
   "source": [
    "#separating the features and label\n",
    "X = dataset.iloc[:, :-1].values\n",
    "y = dataset.iloc[:,9].values\n"
   ]
  },
  {
   "cell_type": "code",
   "execution_count": 14,
   "metadata": {},
   "outputs": [
    {
     "name": "stdout",
     "output_type": "stream",
     "text": [
      "   longitude  latitude  housing_median_age  total_rooms  total_bedrooms  \\\n",
      "0    -122.23     37.88                  41          880           129.0   \n",
      "1    -122.22     37.86                  21         7099          1106.0   \n",
      "2    -122.24     37.85                  52         1467           190.0   \n",
      "3    -122.25     37.85                  52         1274           235.0   \n",
      "4    -122.25     37.85                  52         1627           280.0   \n",
      "\n",
      "   population  households  median_income ocean_proximity  median_house_value  \n",
      "0         322         126         8.3252        NEAR BAY              452600  \n",
      "1        2401        1138         8.3014        NEAR BAY              358500  \n",
      "2         496         177         7.2574        NEAR BAY              352100  \n",
      "3         558         219         5.6431        NEAR BAY              341300  \n",
      "4         565         259         3.8462        NEAR BAY              342200  \n"
     ]
    }
   ],
   "source": [
    "#printing the data \n",
    "print(dataset.head())"
   ]
  },
  {
   "cell_type": "code",
   "execution_count": 4,
   "metadata": {},
   "outputs": [],
   "source": [
    "#dealing with missing value\n",
    "from sklearn.preprocessing import Imputer\n",
    "missingValueImputer = Imputer (missing_values = 'NaN', strategy = 'mean', \n",
    "                               axis = 0)\n",
    "missingValueImputer = missingValueImputer.fit (X[:,4:5])\n",
    "X[:,4:5] = missingValueImputer.transform(X[:,4:5])"
   ]
  },
  {
   "cell_type": "code",
   "execution_count": 5,
   "metadata": {},
   "outputs": [
    {
     "name": "stdout",
     "output_type": "stream",
     "text": [
      "[[-122.23 37.88 41 ... 126 8.3252 3]\n",
      " [-122.22 37.86 21 ... 1138 8.3014 3]\n",
      " [-122.24 37.85 52 ... 177 7.2574 3]\n",
      " ...\n",
      " [-121.22 39.43 17 ... 433 1.7 1]\n",
      " [-121.32 39.43 18 ... 349 1.8672 1]\n",
      " [-121.24 39.37 16 ... 530 2.3886 1]]\n"
     ]
    }
   ],
   "source": [
    "#encoding the dataset\n",
    "from sklearn.preprocessing import LabelEncoder\n",
    "X_labelencoder = LabelEncoder()\n",
    "X[:, 8] = X_labelencoder.fit_transform(X[:, 8])\n",
    "print (X)"
   ]
  },
  {
   "cell_type": "code",
   "execution_count": 6,
   "metadata": {},
   "outputs": [
    {
     "name": "stdout",
     "output_type": "stream",
     "text": [
      "[[0.0000e+00 0.0000e+00 0.0000e+00 ... 3.2200e+02 1.2600e+02 8.3252e+00]\n",
      " [0.0000e+00 0.0000e+00 0.0000e+00 ... 2.4010e+03 1.1380e+03 8.3014e+00]\n",
      " [0.0000e+00 0.0000e+00 0.0000e+00 ... 4.9600e+02 1.7700e+02 7.2574e+00]\n",
      " ...\n",
      " [0.0000e+00 1.0000e+00 0.0000e+00 ... 1.0070e+03 4.3300e+02 1.7000e+00]\n",
      " [0.0000e+00 1.0000e+00 0.0000e+00 ... 7.4100e+02 3.4900e+02 1.8672e+00]\n",
      " [0.0000e+00 1.0000e+00 0.0000e+00 ... 1.3870e+03 5.3000e+02 2.3886e+00]]\n"
     ]
    }
   ],
   "source": [
    "# Implementing OneHotEncoder to separate category variables into dummy \n",
    "# variables.\n",
    "#==============================================================================\n",
    "from sklearn.preprocessing import OneHotEncoder\n",
    "X_onehotencoder = OneHotEncoder (categorical_features = [8])\n",
    "X = X_onehotencoder.fit_transform(X).toarray()\n",
    "print (X)\n"
   ]
  },
  {
   "cell_type": "code",
   "execution_count": 7,
   "metadata": {},
   "outputs": [],
   "source": [
    "#spilt the dataset\n",
    "from sklearn.model_selection import train_test_split\n",
    "X_train, X_test, y_train, y_test = train_test_split (X, y, test_size = 0.2, random_state = 0)\n"
   ]
  },
  {
   "cell_type": "code",
   "execution_count": 8,
   "metadata": {},
   "outputs": [],
   "source": [
    "#feature scaling \n",
    "\n",
    "from sklearn.preprocessing import StandardScaler\n",
    "independent_scalar = StandardScaler()\n",
    "X_train = independent_scalar.fit_transform (X_train) \n",
    "X_test = independent_scalar.transform (X_test)\n"
   ]
  },
  {
   "cell_type": "code",
   "execution_count": 9,
   "metadata": {},
   "outputs": [
    {
     "data": {
      "text/plain": [
       "LinearRegression(copy_X=True, fit_intercept=True, n_jobs=1, normalize=False)"
      ]
     },
     "execution_count": 9,
     "metadata": {},
     "output_type": "execute_result"
    }
   ],
   "source": [
    "#fitiing the linear regression\n",
    "\n",
    "from sklearn.linear_model import LinearRegression\n",
    "regressor = LinearRegression()\n",
    "regressor.fit(X_train,y_train)"
   ]
  },
  {
   "cell_type": "code",
   "execution_count": 10,
   "metadata": {},
   "outputs": [],
   "source": [
    "#predecting the value\n",
    "y_pred = regressor.predict(X_test)"
   ]
  },
  {
   "cell_type": "code",
   "execution_count": 14,
   "metadata": {},
   "outputs": [
    {
     "data": {
      "text/plain": [
       "0.6470029180391917"
      ]
     },
     "execution_count": 14,
     "metadata": {},
     "output_type": "execute_result"
    }
   ],
   "source": [
    "#checking the score\n",
    "regressor.score(X_train,y_train)"
   ]
  },
  {
   "cell_type": "code",
   "execution_count": 15,
   "metadata": {},
   "outputs": [
    {
     "data": {
      "text/plain": [
       "0.6378963949226937"
      ]
     },
     "execution_count": 15,
     "metadata": {},
     "output_type": "execute_result"
    }
   ],
   "source": [
    "\n",
    "regressor.score(X_test,y_test)"
   ]
  },
  {
   "cell_type": "code",
   "execution_count": 17,
   "metadata": {},
   "outputs": [
    {
     "name": "stdout",
     "output_type": "stream",
     "text": [
      "4721667709.864075\n"
     ]
    }
   ],
   "source": [
    "#RMSE\n",
    "from sklearn.metrics import mean_squared_error\n",
    "rmse = mean_squared_error(y_test,y_pred)\n",
    "print(rmse)\n"
   ]
  },
  {
   "cell_type": "code",
   "execution_count": 18,
   "metadata": {},
   "outputs": [
    {
     "name": "stdout",
     "output_type": "stream",
     "text": [
      "4724412342.208373\n"
     ]
    }
   ],
   "source": [
    "rmse1 = mean_squared_error(y_train,regressor.predict(X_train))\n",
    "print(rmse1)"
   ]
  },
  {
   "cell_type": "code",
   "execution_count": null,
   "metadata": {},
   "outputs": [],
   "source": []
  },
  {
   "cell_type": "code",
   "execution_count": 19,
   "metadata": {},
   "outputs": [
    {
     "data": {
      "text/plain": [
       "DecisionTreeRegressor(criterion='mse', max_depth=None, max_features=None,\n",
       "           max_leaf_nodes=None, min_impurity_decrease=0.0,\n",
       "           min_impurity_split=None, min_samples_leaf=1,\n",
       "           min_samples_split=2, min_weight_fraction_leaf=0.0,\n",
       "           presort=False, random_state=0, splitter='best')"
      ]
     },
     "execution_count": 19,
     "metadata": {},
     "output_type": "execute_result"
    }
   ],
   "source": [
    "# *************************************************\n",
    "#   fitting the dicision tree \n",
    "# *********************************\n",
    "\n",
    "from sklearn.tree import DecisionTreeRegressor\n",
    "DTRegressor = DecisionTreeRegressor(random_state=0)\n",
    "DTRegressor.fit(X_train,y_train)"
   ]
  },
  {
   "cell_type": "code",
   "execution_count": 20,
   "metadata": {},
   "outputs": [],
   "source": [
    "#predicting the value\n",
    "y_predDT = DTRegressor.predict(X_test)\n"
   ]
  },
  {
   "cell_type": "code",
   "execution_count": 21,
   "metadata": {},
   "outputs": [
    {
     "data": {
      "text/plain": [
       "1.0"
      ]
     },
     "execution_count": 21,
     "metadata": {},
     "output_type": "execute_result"
    }
   ],
   "source": [
    "#checking the socre \n",
    "DTRegressor.score(X_train,y_train)"
   ]
  },
  {
   "cell_type": "code",
   "execution_count": 22,
   "metadata": {},
   "outputs": [
    {
     "data": {
      "text/plain": [
       "0.6424420549463778"
      ]
     },
     "execution_count": 22,
     "metadata": {},
     "output_type": "execute_result"
    }
   ],
   "source": [
    "DTRegressor.score(X_test,y_test)"
   ]
  },
  {
   "cell_type": "code",
   "execution_count": 23,
   "metadata": {},
   "outputs": [
    {
     "name": "stdout",
     "output_type": "stream",
     "text": [
      "4662394353.142684\n",
      "0.0\n"
     ]
    }
   ],
   "source": [
    "#RMSE\n",
    "from sklearn.metrics import mean_squared_error\n",
    "cm1 = mean_squared_error(y_test,y_predDT)\n",
    "print(cm1)\n",
    "cm2 = mean_squared_error(y_train,DTRegressor.predict(X_train))\n",
    "print(cm2)\n"
   ]
  },
  {
   "cell_type": "code",
   "execution_count": 24,
   "metadata": {},
   "outputs": [
    {
     "name": "stderr",
     "output_type": "stream",
     "text": [
      "C:\\Users\\NR\\Anaconda3\\lib\\site-packages\\sklearn\\ensemble\\weight_boosting.py:29: DeprecationWarning: numpy.core.umath_tests is an internal NumPy module and should not be imported. It will be removed in a future NumPy release.\n",
      "  from numpy.core.umath_tests import inner1d\n"
     ]
    },
    {
     "data": {
      "text/plain": [
       "RandomForestRegressor(bootstrap=True, criterion='mse', max_depth=None,\n",
       "           max_features='auto', max_leaf_nodes=None,\n",
       "           min_impurity_decrease=0.0, min_impurity_split=None,\n",
       "           min_samples_leaf=1, min_samples_split=2,\n",
       "           min_weight_fraction_leaf=0.0, n_estimators=10, n_jobs=1,\n",
       "           oob_score=False, random_state=0, verbose=0, warm_start=False)"
      ]
     },
     "execution_count": 24,
     "metadata": {},
     "output_type": "execute_result"
    }
   ],
   "source": [
    "#fitting the randomforest\n",
    "\n",
    "from sklearn.ensemble import RandomForestRegressor\n",
    "regressor1 = RandomForestRegressor(n_estimators = 10, random_state = 0)\n",
    "regressor1.fit(X_train, y_train)\n"
   ]
  },
  {
   "cell_type": "code",
   "execution_count": 25,
   "metadata": {},
   "outputs": [],
   "source": [
    "#predectiion \n",
    "y_predRF = regressor1.predict(X_test)"
   ]
  },
  {
   "cell_type": "code",
   "execution_count": 26,
   "metadata": {},
   "outputs": [
    {
     "data": {
      "text/plain": [
       "0.9638817897909814"
      ]
     },
     "execution_count": 26,
     "metadata": {},
     "output_type": "execute_result"
    }
   ],
   "source": [
    "#checking the score\n",
    "regressor1.score(X_train,y_train)\n"
   ]
  },
  {
   "cell_type": "code",
   "execution_count": 27,
   "metadata": {},
   "outputs": [
    {
     "data": {
      "text/plain": [
       "0.800174591716651"
      ]
     },
     "execution_count": 27,
     "metadata": {},
     "output_type": "execute_result"
    }
   ],
   "source": [
    "regressor1.score(X_test,y_test)"
   ]
  },
  {
   "cell_type": "code",
   "execution_count": 28,
   "metadata": {},
   "outputs": [
    {
     "name": "stdout",
     "output_type": "stream",
     "text": [
      "2605633207.3812504\n",
      "483395831.89220023\n"
     ]
    }
   ],
   "source": [
    "#RMSE\n",
    "from sklearn.metrics import mean_squared_error\n",
    "rmseR = mean_squared_error(y_test,y_predRF)\n",
    "print(rmseR)\n",
    "rmseR1 = mean_squared_error(y_train,regressor1.predict(X_train))\n",
    "print(rmseR1)"
   ]
  },
  {
   "cell_type": "code",
   "execution_count": 29,
   "metadata": {},
   "outputs": [],
   "source": [
    "# **************************************************************\n",
    "#Perform Linear Regression with one independent variable :\n",
    "# *************************************************************\n",
    "\n",
    "X_train1 = X_train[:,[12]]\n",
    "X_test1 =  X_test[:,[12]]"
   ]
  },
  {
   "cell_type": "code",
   "execution_count": 30,
   "metadata": {},
   "outputs": [
    {
     "data": {
      "text/plain": [
       "LinearRegression(copy_X=True, fit_intercept=True, n_jobs=1, normalize=False)"
      ]
     },
     "execution_count": 30,
     "metadata": {},
     "output_type": "execute_result"
    }
   ],
   "source": [
    "#fitiing the linear regression\n",
    "\n",
    "from sklearn.linear_model import LinearRegression\n",
    "regressor2 = LinearRegression()\n",
    "regressor2.fit(X_train1,y_train)\n"
   ]
  },
  {
   "cell_type": "code",
   "execution_count": 32,
   "metadata": {},
   "outputs": [],
   "source": [
    "#predecting the value\n",
    "y_pred = regressor2.predict(X_test1)"
   ]
  },
  {
   "cell_type": "code",
   "execution_count": 33,
   "metadata": {},
   "outputs": [
    {
     "name": "stdout",
     "output_type": "stream",
     "text": [
      "0.479914127199415\n",
      "0.4466846804895944\n"
     ]
    }
   ],
   "source": [
    "#checking the score\n",
    "print(regressor2.score(X_train1,y_train))\n",
    "print(regressor2.score(X_test1,y_test))"
   ]
  },
  {
   "cell_type": "code",
   "execution_count": 34,
   "metadata": {},
   "outputs": [
    {
     "data": {
      "image/png": "[encoded data removed]",
      "text/plain": [
       "<Figure size 432x288 with 1 Axes>"
      ]
     },
     "metadata": {
      "needs_background": "light"
     },
     "output_type": "display_data"
    }
   ],
   "source": [
    "#visuliztion trining data \n",
    "\n",
    "plt.scatter(X_train1,y_train,color='red')\n",
    "plt.plot(X_train1,regressor2.predict(X_train1),color='blue')\n",
    "plt.xlabel('Medain Income')\n",
    "plt.ylabel('House Price')\n",
    "plt.title('Visualization for training dataset')\n",
    "plt.show()\n"
   ]
  },
  {
   "cell_type": "code",
   "execution_count": 35,
   "metadata": {},
   "outputs": [
    {
     "data": {
      "image/png": "[encoded data removed]",
      "text/plain": [
       "<Figure size 432x288 with 1 Axes>"
      ]
     },
     "metadata": {
      "needs_background": "light"
     },
     "output_type": "display_data"
    }
   ],
   "source": [
    "#for test dataset\n",
    "plt.scatter(X_test1,y_test,color='red')\n",
    "plt.plot(X_train1,regressor2.predict(X_train1),color='blue')\n",
    "plt.xlabel('Medain Income')\n",
    "plt.ylabel('House Price')\n",
    "plt.title('Visualization for training dataset')\n",
    "plt.show()\n"
   ]
  },
  {
   "cell_type": "code",
   "execution_count": null,
   "metadata": {},
   "outputs": [],
   "source": [
    "#conclusion obeserving all the tested model Random forest provide the better result as compare to the \n",
    "# linear regression and Decision Tree"
   ]
  }
 ],
 "metadata": {
  "kernelspec": {
   "display_name": "Python 3",
   "language": "python",
   "name": "python3"
  },
  "language_info": {
   "codemirror_mode": {
    "name": "ipython",
    "version": 3
   },
   "file_extension": ".py",
   "mimetype": "text/x-python",
   "name": "python",
   "nbconvert_exporter": "python",
   "pygments_lexer": "ipython3",
   "version": "3.7.0"
  }
 },
 "nbformat": 4,
 "nbformat_minor": 2
}
